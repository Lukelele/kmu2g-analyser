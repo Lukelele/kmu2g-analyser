{
 "cells": [
  {
   "cell_type": "code",
   "execution_count": 1,
   "metadata": {},
   "outputs": [
    {
     "name": "stderr",
     "output_type": "stream",
     "text": [
      "/cvmfs/sft.cern.ch/lcg/releases/LCG_102b/torchvision/0.12.0/x86_64-centos9-gcc11-opt/lib/python3.9/site-packages/torchvision/io/image.py:13: UserWarning: Failed to load image Python extension: /cvmfs/sft.cern.ch/lcg/releases/torchvision/0.12.0-2ee13/x86_64-centos9-gcc11-opt/lib/python3.9/site-packages/torchvision/image.so: undefined symbol: _ZN3c1017RegisterOperatorsD1Ev\n",
      "  warn(f\"Failed to load image Python extension: {e}\")\n"
     ]
    }
   ],
   "source": [
    "import os\n",
    "import numpy as np\n",
    "import pandas as pd\n",
    "import matplotlib.pyplot as plt\n",
    "import matplotlib\n",
    "import seaborn as sns\n",
    "\n",
    "from sklearn.preprocessing import StandardScaler\n",
    "from sklearn.model_selection import train_test_split, cross_val_score\n",
    "from sklearn.metrics import accuracy_score, confusion_matrix, classification_report, precision_score, recall_score, f1_score, make_scorer\n",
    "from sklearn.decomposition import PCA\n",
    "from sklearn.cluster import KMeans\n",
    "\n",
    "from sklearn.tree import DecisionTreeClassifier\n",
    "from sklearn.ensemble import RandomForestClassifier, GradientBoostingClassifier\n",
    "import xgboost\n",
    "\n",
    "import torch\n",
    "import beacon"
   ]
  },
  {
   "cell_type": "markdown",
   "metadata": {},
   "source": [
    "-----------\n",
    "Data Loading and Visualisation\n",
    "---------"
   ]
  },
  {
   "cell_type": "code",
   "execution_count": 2,
   "metadata": {},
   "outputs": [],
   "source": [
    "KMU2GIB_EVENT_COUNT = 20000\n",
    "KMU2GSDINT_RATIO = 0.0419\n",
    "K2PI_RATIO = 33.3387\n",
    "KMU3_RATIO = 5.4048"
   ]
  },
  {
   "cell_type": "code",
   "execution_count": 3,
   "metadata": {},
   "outputs": [],
   "source": [
    "matplotlib.rcParams['figure.figsize'] = (9, 6)\n",
    "# plt.style.use('dark_background')"
   ]
  },
  {
   "cell_type": "code",
   "execution_count": 4,
   "metadata": {},
   "outputs": [],
   "source": [
    "def read_dir(directory):\n",
    "    # Initialize an empty list to store the dataframes\n",
    "    dfs = []\n",
    "\n",
    "    # Iterate over all files in the directory\n",
    "    for filename in os.listdir(directory):\n",
    "        if filename.endswith('.csv'):\n",
    "            # Read the CSV file into a dataframe\n",
    "            filepath = os.path.join(directory, filename)\n",
    "            try:\n",
    "                df = pd.read_csv(filepath)\n",
    "            except:\n",
    "                print(f'Error reading {filepath}')\n",
    "                continue\n",
    "            \n",
    "            # Append the dataframe to the list\n",
    "            dfs.append(df)\n",
    "\n",
    "    # Concatenate all dataframes into one\n",
    "    combined_df = pd.concat(dfs, ignore_index=True)\n",
    "    return combined_df"
   ]
  },
  {
   "cell_type": "code",
   "execution_count": 5,
   "metadata": {},
   "outputs": [
    {
     "name": "stdout",
     "output_type": "stream",
     "text": [
      "Error reading /eos/user/y/yuanye/Analysis/data/k2pidata/out1.csv\n",
      "Error reading /eos/user/y/yuanye/Analysis/data/k2pidata/out17.csv\n",
      "Error reading /eos/user/y/yuanye/Analysis/data/k2pidata/out18.csv\n",
      "Error reading /eos/user/y/yuanye/Analysis/data/k2pidata/out2.csv\n",
      "Error reading /eos/user/y/yuanye/Analysis/data/k2pidata/out21.csv\n",
      "Error reading /eos/user/y/yuanye/Analysis/data/k2pidata/out24.csv\n",
      "Error reading /eos/user/y/yuanye/Analysis/data/k2pidata/out3.csv\n",
      "Error reading /eos/user/y/yuanye/Analysis/data/k2pidata/out32.csv\n",
      "Error reading /eos/user/y/yuanye/Analysis/data/k2pidata/out4.csv\n",
      "Error reading /eos/user/y/yuanye/Analysis/data/k2pidata/out6.csv\n",
      "Error reading /eos/user/y/yuanye/Analysis/data/k2pidata/out9.csv\n"
     ]
    }
   ],
   "source": [
    "kmu2gib_df = read_dir(\"/eos/user/y/yuanye/Analysis/data/kmu2gibdata\")\n",
    "kmu2gsd_df = read_dir(\"/eos/user/y/yuanye/Analysis/data/kmu2gsddata\")\n",
    "kmu2gintm_df = read_dir(\"/eos/user/y/yuanye/Analysis/data/kmu2gintmdata\")\n",
    "k2pi_df = read_dir(\"/eos/user/y/yuanye/Analysis/data/k2pidata\")\n",
    "kmu3_df = read_dir(\"/eos/user/y/yuanye/Analysis/data/kmu3data\")"
   ]
  },
  {
   "cell_type": "code",
   "execution_count": 6,
   "metadata": {},
   "outputs": [],
   "source": [
    "k2pi_df['CumulativeEventCount'] = k2pi_df['EventCount'].cumsum()\n",
    "kmu3_df['CumulativeEventCount'] = kmu3_df['EventCount'].cumsum()\n",
    "kmu2gsd_df['CumulativeEventCount'] = kmu2gsd_df['EventCount'].cumsum()\n",
    "kmu2gintm_df['CumulativeEventCount'] = kmu2gintm_df['EventCount'].cumsum()\n",
    "kmu2gib_df['CumulativeEventCount'] = kmu2gib_df['EventCount'].cumsum()"
   ]
  },
  {
   "cell_type": "code",
   "execution_count": 7,
   "metadata": {},
   "outputs": [
    {
     "data": {
      "text/plain": [
       "(1490569, 7033119)"
      ]
     },
     "execution_count": 7,
     "metadata": {},
     "output_type": "execute_result"
    }
   ],
   "source": [
    "k2pi_df[\"CumulativeEventCount\"].max(), kmu3_df[\"CumulativeEventCount\"].max()"
   ]
  },
  {
   "cell_type": "code",
   "execution_count": 8,
   "metadata": {},
   "outputs": [],
   "source": [
    "kmu2gsd_df_sub = kmu2gsd_df[kmu2gsd_df[\"CumulativeEventCount\"] < KMU2GIB_EVENT_COUNT * (KMU2GSDINT_RATIO/2)]\n",
    "kmu2gintm_df_sub = kmu2gintm_df[kmu2gintm_df[\"CumulativeEventCount\"] < KMU2GIB_EVENT_COUNT * (KMU2GSDINT_RATIO/2)]\n",
    "kmu2gsdintm_df_sub = pd.concat([kmu2gsd_df_sub, kmu2gintm_df_sub], ignore_index=True)\n",
    "k2pi_df_sub = k2pi_df[k2pi_df[\"CumulativeEventCount\"] < KMU2GIB_EVENT_COUNT * K2PI_RATIO]\n",
    "kmu3_df_sub = kmu3_df[kmu3_df[\"CumulativeEventCount\"] < KMU2GIB_EVENT_COUNT * KMU3_RATIO]"
   ]
  },
  {
   "cell_type": "code",
   "execution_count": 9,
   "metadata": {},
   "outputs": [
    {
     "name": "stdout",
     "output_type": "stream",
     "text": [
      "kmu2gib Acceptance:  0.22035\n",
      "kmu2gsd- Acceptance:  0.20048055263553086\n",
      "kmu2gint- Acceptance:  0.20490367775831875\n",
      "k2pi Acceptance:  0.008956982199415122\n",
      "kmu3 Acceptance:  0.008213710019693964\n"
     ]
    }
   ],
   "source": [
    "# calculate the acceptance ratio\n",
    "kmu2gib_acceptance = len(kmu2gib_df) / KMU2GIB_EVENT_COUNT\n",
    "kmu2gsd_acceptance = len(kmu2gsd_df) / kmu2gsd_df[\"CumulativeEventCount\"].max()\n",
    "kmu2gintm_acceptance = len(kmu2gintm_df) / kmu2gintm_df[\"CumulativeEventCount\"].max()\n",
    "k2pi_acceptance = len(k2pi_df) / k2pi_df[\"CumulativeEventCount\"].max()\n",
    "kmu3_acceptance = len(kmu3_df) / kmu3_df[\"CumulativeEventCount\"].max()\n",
    "\n",
    "print(\"kmu2gib Acceptance: \", kmu2gib_acceptance)\n",
    "print(\"kmu2gsd- Acceptance: \", kmu2gsd_acceptance)\n",
    "print(\"kmu2gint- Acceptance: \", kmu2gintm_acceptance)\n",
    "print(\"k2pi Acceptance: \", k2pi_acceptance)\n",
    "print(\"kmu3 Acceptance: \", kmu3_acceptance)"
   ]
  },
  {
   "cell_type": "code",
   "execution_count": 10,
   "metadata": {},
   "outputs": [
    {
     "name": "stderr",
     "output_type": "stream",
     "text": [
      "/tmp/yuanye/ipykernel_3654572/109178695.py:5: SettingWithCopyWarning: \n",
      "A value is trying to be set on a copy of a slice from a DataFrame.\n",
      "Try using .loc[row_indexer,col_indexer] = value instead\n",
      "\n",
      "See the caveats in the documentation: https://pandas.pydata.org/pandas-docs/stable/user_guide/indexing.html#returning-a-view-versus-a-copy\n",
      "  k2pi_df_sub[\"Mode\"] = 2\n",
      "/tmp/yuanye/ipykernel_3654572/109178695.py:6: SettingWithCopyWarning: \n",
      "A value is trying to be set on a copy of a slice from a DataFrame.\n",
      "Try using .loc[row_indexer,col_indexer] = value instead\n",
      "\n",
      "See the caveats in the documentation: https://pandas.pydata.org/pandas-docs/stable/user_guide/indexing.html#returning-a-view-versus-a-copy\n",
      "  kmu3_df_sub[\"Mode\"] = 3\n"
     ]
    }
   ],
   "source": [
    "# Add mode column for classification\n",
    "# 0: kmu2gib, 1: kmu2gsd, 2: kmu2gintm, 3: k2pi, 4: kmu3\n",
    "kmu2gib_df[\"Mode\"] = 0\n",
    "kmu2gsdintm_df_sub[\"Mode\"] = 1\n",
    "k2pi_df_sub[\"Mode\"] = 2\n",
    "kmu3_df_sub[\"Mode\"] = 3\n",
    "\n",
    "combined_df = pd.concat([kmu2gib_df, kmu2gsdintm_df_sub, k2pi_df_sub, kmu3_df_sub], ignore_index=True)"
   ]
  },
  {
   "cell_type": "code",
   "execution_count": 11,
   "metadata": {},
   "outputs": [],
   "source": [
    "combined_df.insert(0, \"GTKMomentum\", np.sqrt(combined_df[\"GTKMomentumX\"]**2 + combined_df[\"GTKMomentumY\"]**2 + combined_df[\"GTKMomentumZ\"]**2))\n",
    "combined_df.insert(5, \"MuonMomentumPrime\", np.sqrt(combined_df[\"MuonMomentumPrimeX\"]**2 + combined_df[\"MuonMomentumPrimeY\"]**2 + combined_df[\"MuonMomentumPrimeZ\"]**2))\n",
    "combined_df.insert(10, \"MissingMomentum\", np.sqrt(combined_df[\"MissingMomentumX\"]**2 + combined_df[\"MissingMomentumY\"]**2 + combined_df[\"MissingMomentumZ\"]**2))"
   ]
  },
  {
   "cell_type": "code",
   "execution_count": 12,
   "metadata": {},
   "outputs": [],
   "source": [
    "# Remove unnecessary columns for classification\n",
    "combined_df = combined_df.drop(columns=[\"NLKrCells\", \"NLKrClusters\", \"NVertices\", \"NTracks\", \"GTKMomentumX\", \"GTKMomentumY\", \"GTKMomentumZ\", \"GTKEnergy\", \"GTKGamma\", \"GTKBeta\", \"EventCount\", \"GTKMomentumX\", \"GTKMomentumY\", \"GTKMomentumZ\", \"MuonMomentumX\", \"MuonMomentumY\", \"MuonMomentumZ\", \"MuonMomentumPrimeX\", \"MuonMomentumPrimeY\", \"MuonMomentumPrimeZ\", \"MissingMomentumX\", \"MissingMomentumY\", \"MissingMomentumZ\", \"CDAAfterCut\", \"CumulativeEventCount\", \"CDA\", \"TrackTime\", \"QChi2Track\"])"
   ]
  },
  {
   "cell_type": "code",
   "execution_count": 13,
   "metadata": {},
   "outputs": [],
   "source": [
    "X = combined_df.drop(columns=[\"Mode\"])\n",
    "y = combined_df[\"Mode\"]"
   ]
  },
  {
   "cell_type": "markdown",
   "metadata": {},
   "source": [
    "----------\n",
    "Machine Learning\n",
    "----------"
   ]
  },
  {
   "cell_type": "code",
   "execution_count": 14,
   "metadata": {},
   "outputs": [],
   "source": [
    "X_train, X_test, y_train, y_test = train_test_split(X, y, test_size=0.3, random_state=42)"
   ]
  },
  {
   "cell_type": "markdown",
   "metadata": {},
   "source": [
    "Decision Tree\n",
    "---------------"
   ]
  },
  {
   "cell_type": "code",
   "execution_count": 15,
   "metadata": {},
   "outputs": [
    {
     "data": {
      "text/plain": [
       "DecisionTreeClassifier()"
      ]
     },
     "execution_count": 15,
     "metadata": {},
     "output_type": "execute_result"
    }
   ],
   "source": [
    "# Decision Tree\n",
    "dtree = DecisionTreeClassifier()\n",
    "dtree.fit(X_train, y_train)"
   ]
  },
  {
   "cell_type": "code",
   "execution_count": 16,
   "metadata": {},
   "outputs": [
    {
     "name": "stdout",
     "output_type": "stream",
     "text": [
      "Accuracy: 0.9079328314997105\n"
     ]
    }
   ],
   "source": [
    "y_pred_tree = dtree.predict(X_test)\n",
    "print(\"Accuracy: \" + str(accuracy_score(y_test, y_pred_tree)))"
   ]
  },
  {
   "cell_type": "code",
   "execution_count": 17,
   "metadata": {},
   "outputs": [
    {
     "name": "stdout",
     "output_type": "stream",
     "text": [
      "              precision    recall  f1-score   support\n",
      "\n",
      "     kmu2gib       0.90      0.93      0.92      1356\n",
      " kmu2gsdintm       0.11      0.14      0.12        36\n",
      "        k2pi       0.95      0.94      0.95      1805\n",
      "        kmu3       0.73      0.66      0.69       257\n",
      "\n",
      "    accuracy                           0.91      3454\n",
      "   macro avg       0.68      0.67      0.67      3454\n",
      "weighted avg       0.91      0.91      0.91      3454\n",
      "\n"
     ]
    }
   ],
   "source": [
    "report = classification_report(y_test, y_pred_tree, target_names=['kmu2gib', 'kmu2gsdintm', 'k2pi', 'kmu3'])\n",
    "print(report)"
   ]
  },
  {
   "cell_type": "markdown",
   "metadata": {},
   "source": [
    "Random Forest\n",
    "----------"
   ]
  },
  {
   "cell_type": "code",
   "execution_count": 18,
   "metadata": {},
   "outputs": [
    {
     "data": {
      "text/plain": [
       "RandomForestClassifier()"
      ]
     },
     "execution_count": 18,
     "metadata": {},
     "output_type": "execute_result"
    }
   ],
   "source": [
    "forest = RandomForestClassifier(n_estimators=100)\n",
    "forest.fit(X_train, y_train)"
   ]
  },
  {
   "cell_type": "code",
   "execution_count": 19,
   "metadata": {},
   "outputs": [
    {
     "name": "stdout",
     "output_type": "stream",
     "text": [
      "Accuracy: 0.9389114070642733\n"
     ]
    }
   ],
   "source": [
    "y_pred_forest = forest.predict(X_test)\n",
    "print(\"Accuracy: \" + str(accuracy_score(y_test, y_pred_forest)))"
   ]
  },
  {
   "cell_type": "code",
   "execution_count": 20,
   "metadata": {},
   "outputs": [
    {
     "name": "stdout",
     "output_type": "stream",
     "text": [
      "              precision    recall  f1-score   support\n",
      "\n",
      "     kmu2gib       0.93      0.96      0.95      1356\n",
      " kmu2gsdintm       0.25      0.03      0.05        36\n",
      "        k2pi       0.96      0.97      0.97      1805\n",
      "        kmu3       0.79      0.69      0.74       257\n",
      "\n",
      "    accuracy                           0.94      3454\n",
      "   macro avg       0.73      0.66      0.68      3454\n",
      "weighted avg       0.93      0.94      0.93      3454\n",
      "\n"
     ]
    }
   ],
   "source": [
    "print(classification_report(y_test, y_pred_forest, target_names=['kmu2gib', 'kmu2gsdintm', 'k2pi', 'kmu3']))"
   ]
  },
  {
   "cell_type": "markdown",
   "metadata": {},
   "source": [
    "Gradient Boosted Decision Trees\n",
    "-------------------------------"
   ]
  },
  {
   "cell_type": "code",
   "execution_count": 21,
   "metadata": {},
   "outputs": [],
   "source": [
    "boosted_tree = GradientBoostingClassifier(n_estimators=100)\n",
    "boosted_tree.fit(X_train, y_train)"
   ]
  },
  {
   "cell_type": "code",
   "execution_count": null,
   "metadata": {},
   "outputs": [
    {
     "name": "stdout",
     "output_type": "stream",
     "text": [
      "Accuracy: 0.9438332368268674\n"
     ]
    }
   ],
   "source": [
    "y_pred_boosted_tree = boosted_tree.predict(X_test)\n",
    "print(\"Accuracy: \" + str(accuracy_score(y_test, y_pred_boosted_tree)))"
   ]
  },
  {
   "cell_type": "code",
   "execution_count": null,
   "metadata": {},
   "outputs": [
    {
     "name": "stdout",
     "output_type": "stream",
     "text": [
      "              precision    recall  f1-score   support\n",
      "\n",
      "     kmu2gib       0.94      0.96      0.95      1356\n",
      " kmu2gsdintm       0.25      0.08      0.12        36\n",
      "        k2pi       0.97      0.98      0.98      1805\n",
      "        kmu3       0.80      0.73      0.76       257\n",
      "\n",
      "    accuracy                           0.94      3454\n",
      "   macro avg       0.74      0.69      0.70      3454\n",
      "weighted avg       0.94      0.94      0.94      3454\n",
      "\n"
     ]
    }
   ],
   "source": [
    "print(classification_report(y_test, y_pred_boosted_tree, target_names=['kmu2gib', 'kmu2gsdintm', 'k2pi', 'kmu3']))"
   ]
  },
  {
   "cell_type": "markdown",
   "metadata": {},
   "source": [
    "Extreme Gradient Boosting\n",
    "-------------------------"
   ]
  },
  {
   "cell_type": "code",
   "execution_count": null,
   "metadata": {},
   "outputs": [
    {
     "data": {
      "text/plain": [
       "XGBClassifier(objective='multi:softprob')"
      ]
     },
     "execution_count": 31,
     "metadata": {},
     "output_type": "execute_result"
    }
   ],
   "source": [
    "xgb = xgboost.XGBClassifier(n_estimators=100)\n",
    "xgb.fit(X_train, y_train)"
   ]
  },
  {
   "cell_type": "code",
   "execution_count": null,
   "metadata": {},
   "outputs": [
    {
     "name": "stdout",
     "output_type": "stream",
     "text": [
      "Accuracy: 0.9415170816444702\n"
     ]
    }
   ],
   "source": [
    "y_pred_xgb = xgb.predict(X_test)\n",
    "print(\"Accuracy: \" + str(accuracy_score(y_test, y_pred_xgb)))"
   ]
  },
  {
   "cell_type": "code",
   "execution_count": null,
   "metadata": {},
   "outputs": [
    {
     "name": "stdout",
     "output_type": "stream",
     "text": [
      "              precision    recall  f1-score   support\n",
      "\n",
      "     kmu2gib       0.93      0.96      0.94      1356\n",
      " kmu2gsdintm       0.00      0.00      0.00        36\n",
      "        k2pi       0.97      0.98      0.97      1805\n",
      "        kmu3       0.83      0.72      0.77       257\n",
      "\n",
      "    accuracy                           0.94      3454\n",
      "   macro avg       0.68      0.67      0.67      3454\n",
      "weighted avg       0.93      0.94      0.94      3454\n",
      "\n"
     ]
    }
   ],
   "source": [
    "print(classification_report(y_test, y_pred_xgb, target_names=['kmu2gib', 'kmu2gsdintm', 'k2pi', 'kmu3']))"
   ]
  },
  {
   "cell_type": "markdown",
   "metadata": {},
   "source": [
    "Deep Neural Networks\n",
    "--------------------"
   ]
  },
  {
   "cell_type": "code",
   "execution_count": null,
   "metadata": {},
   "outputs": [],
   "source": [
    "X_train_tensor = torch.tensor(X_train.values, dtype=torch.float32)\n",
    "y_train_tensor = torch.tensor(y_train.values, dtype=torch.int64)"
   ]
  },
  {
   "cell_type": "code",
   "execution_count": null,
   "metadata": {},
   "outputs": [
    {
     "data": {
      "text/plain": [
       "(torch.Size([8058, 17]), torch.Size([8058]))"
      ]
     },
     "execution_count": 35,
     "metadata": {},
     "output_type": "execute_result"
    }
   ],
   "source": [
    "X_train_tensor.shape, y_train_tensor.shape"
   ]
  },
  {
   "cell_type": "code",
   "execution_count": null,
   "metadata": {},
   "outputs": [],
   "source": [
    "class DNN(beacon.Module):\n",
    "    def __init__(self, in_features: int, out_features: int):\n",
    "        super().__init__()\n",
    "        self.fc1 = torch.nn.Linear(in_features, 64)\n",
    "        self.fc2 = torch.nn.Linear(64, 32)\n",
    "        self.fc3 = torch.nn.Linear(32, 16)\n",
    "        self.fc4 = torch.nn.Linear(16, out_features)\n",
    "        self.dropout = torch.nn.Dropout(0.45)\n",
    "        self.classifier = torch.nn.Softmax(dim=1)\n",
    "        self.ReLU = torch.nn.ReLU()\n",
    "        \n",
    "    def forward(self, x):\n",
    "        x = torch.sigmoid(self.fc1(x))\n",
    "        x = self.dropout(x)\n",
    "        x = torch.sigmoid(self.fc2(x))\n",
    "        x = self.dropout(x)\n",
    "        x = torch.sigmoid(self.fc3(x))\n",
    "        x = self.fc4(x)\n",
    "        x = self.classifier(x)\n",
    "        return x"
   ]
  },
  {
   "cell_type": "code",
   "execution_count": null,
   "metadata": {},
   "outputs": [],
   "source": [
    "dnn = DNN(X_train_tensor.shape[1], 4)\n",
    "dnn.compile(optimiser=torch.optim.SGD, device=\"cuda\")"
   ]
  },
  {
   "cell_type": "code",
   "execution_count": null,
   "metadata": {},
   "outputs": [
    {
     "data": {
      "application/vnd.jupyter.widget-view+json": {
       "model_id": "706d772aac674a28b6b9a302628b911c",
       "version_major": 2,
       "version_minor": 0
      },
      "text/plain": [
       "  0%|          | 0/1000 [00:00<?, ?it/s]"
      ]
     },
     "metadata": {},
     "output_type": "display_data"
    },
    {
     "ename": "OutOfMemoryError",
     "evalue": "CUDA out of memory. Tried to allocate 20.00 MiB. GPU 0 has a total capacity of 14.57 GiB of which 8.75 MiB is free. Process 2322271 has 14.14 GiB memory in use. Process 2518239 has 266.00 MiB memory in use. Including non-PyTorch memory, this process has 160.00 MiB memory in use. Of the allocated memory 16.60 MiB is allocated by PyTorch, and 9.40 MiB is reserved by PyTorch but unallocated. If reserved but unallocated memory is large try setting PYTORCH_CUDA_ALLOC_CONF=expandable_segments:True to avoid fragmentation.  See documentation for Memory Management  (https://pytorch.org/docs/stable/notes/cuda.html#environment-variables)",
     "output_type": "error",
     "traceback": [
      "\u001b[0;31m---------------------------------------------------------------------------\u001b[0m",
      "\u001b[0;31mOutOfMemoryError\u001b[0m                          Traceback (most recent call last)",
      "\u001b[0;32m/tmp/yuanye/ipykernel_2503751/132403156.py\u001b[0m in \u001b[0;36m<module>\u001b[0;34m\u001b[0m\n\u001b[0;32m----> 1\u001b[0;31m \u001b[0mlosses\u001b[0m \u001b[0;34m=\u001b[0m \u001b[0mdnn\u001b[0m\u001b[0;34m.\u001b[0m\u001b[0mfit_tensor\u001b[0m\u001b[0;34m(\u001b[0m\u001b[0mX_train_tensor\u001b[0m\u001b[0;34m,\u001b[0m \u001b[0my_train_tensor\u001b[0m\u001b[0;34m,\u001b[0m \u001b[0mepochs\u001b[0m\u001b[0;34m=\u001b[0m\u001b[0;36m1000\u001b[0m\u001b[0;34m)\u001b[0m\u001b[0;34m\u001b[0m\u001b[0;34m\u001b[0m\u001b[0m\n\u001b[0m",
      "\u001b[0;32m~/.local/lib/python3.9/site-packages/beacon/module.py\u001b[0m in \u001b[0;36mfit_tensor\u001b[0;34m(self, X, y, epochs)\u001b[0m\n\u001b[1;32m    150\u001b[0m \u001b[0;34m\u001b[0m\u001b[0m\n\u001b[1;32m    151\u001b[0m             \u001b[0moptimiser\u001b[0m\u001b[0;34m.\u001b[0m\u001b[0mzero_grad\u001b[0m\u001b[0;34m(\u001b[0m\u001b[0;34m)\u001b[0m\u001b[0;34m\u001b[0m\u001b[0;34m\u001b[0m\u001b[0m\n\u001b[0;32m--> 152\u001b[0;31m             \u001b[0mloss\u001b[0m\u001b[0;34m.\u001b[0m\u001b[0mbackward\u001b[0m\u001b[0;34m(\u001b[0m\u001b[0;34m)\u001b[0m\u001b[0;34m\u001b[0m\u001b[0;34m\u001b[0m\u001b[0m\n\u001b[0m\u001b[1;32m    153\u001b[0m             \u001b[0moptimiser\u001b[0m\u001b[0;34m.\u001b[0m\u001b[0mstep\u001b[0m\u001b[0;34m(\u001b[0m\u001b[0;34m)\u001b[0m\u001b[0;34m\u001b[0m\u001b[0;34m\u001b[0m\u001b[0m\n\u001b[1;32m    154\u001b[0m \u001b[0;34m\u001b[0m\u001b[0m\n",
      "\u001b[0;32m~/.local/lib/python3.9/site-packages/torch/_tensor.py\u001b[0m in \u001b[0;36mbackward\u001b[0;34m(self, gradient, retain_graph, create_graph, inputs)\u001b[0m\n\u001b[1;32m    519\u001b[0m                 \u001b[0minputs\u001b[0m\u001b[0;34m=\u001b[0m\u001b[0minputs\u001b[0m\u001b[0;34m,\u001b[0m\u001b[0;34m\u001b[0m\u001b[0;34m\u001b[0m\u001b[0m\n\u001b[1;32m    520\u001b[0m             )\n\u001b[0;32m--> 521\u001b[0;31m         torch.autograd.backward(\n\u001b[0m\u001b[1;32m    522\u001b[0m             \u001b[0mself\u001b[0m\u001b[0;34m,\u001b[0m \u001b[0mgradient\u001b[0m\u001b[0;34m,\u001b[0m \u001b[0mretain_graph\u001b[0m\u001b[0;34m,\u001b[0m \u001b[0mcreate_graph\u001b[0m\u001b[0;34m,\u001b[0m \u001b[0minputs\u001b[0m\u001b[0;34m=\u001b[0m\u001b[0minputs\u001b[0m\u001b[0;34m\u001b[0m\u001b[0;34m\u001b[0m\u001b[0m\n\u001b[1;32m    523\u001b[0m         )\n",
      "\u001b[0;32m~/.local/lib/python3.9/site-packages/torch/autograd/__init__.py\u001b[0m in \u001b[0;36mbackward\u001b[0;34m(tensors, grad_tensors, retain_graph, create_graph, grad_variables, inputs)\u001b[0m\n\u001b[1;32m    287\u001b[0m     \u001b[0;31m# some Python versions print out the first line of a multi-line function\u001b[0m\u001b[0;34m\u001b[0m\u001b[0;34m\u001b[0m\u001b[0m\n\u001b[1;32m    288\u001b[0m     \u001b[0;31m# calls in the traceback and some print out the last line\u001b[0m\u001b[0;34m\u001b[0m\u001b[0;34m\u001b[0m\u001b[0m\n\u001b[0;32m--> 289\u001b[0;31m     _engine_run_backward(\n\u001b[0m\u001b[1;32m    290\u001b[0m         \u001b[0mtensors\u001b[0m\u001b[0;34m,\u001b[0m\u001b[0;34m\u001b[0m\u001b[0;34m\u001b[0m\u001b[0m\n\u001b[1;32m    291\u001b[0m         \u001b[0mgrad_tensors_\u001b[0m\u001b[0;34m,\u001b[0m\u001b[0;34m\u001b[0m\u001b[0;34m\u001b[0m\u001b[0m\n",
      "\u001b[0;32m~/.local/lib/python3.9/site-packages/torch/autograd/graph.py\u001b[0m in \u001b[0;36m_engine_run_backward\u001b[0;34m(t_outputs, *args, **kwargs)\u001b[0m\n\u001b[1;32m    766\u001b[0m         \u001b[0munregister_hooks\u001b[0m \u001b[0;34m=\u001b[0m \u001b[0m_register_logging_hooks_on_whole_graph\u001b[0m\u001b[0;34m(\u001b[0m\u001b[0mt_outputs\u001b[0m\u001b[0;34m)\u001b[0m\u001b[0;34m\u001b[0m\u001b[0;34m\u001b[0m\u001b[0m\n\u001b[1;32m    767\u001b[0m     \u001b[0;32mtry\u001b[0m\u001b[0;34m:\u001b[0m\u001b[0;34m\u001b[0m\u001b[0;34m\u001b[0m\u001b[0m\n\u001b[0;32m--> 768\u001b[0;31m         return Variable._execution_engine.run_backward(  # Calls into the C++ engine to run the backward pass\n\u001b[0m\u001b[1;32m    769\u001b[0m             \u001b[0mt_outputs\u001b[0m\u001b[0;34m,\u001b[0m \u001b[0;34m*\u001b[0m\u001b[0margs\u001b[0m\u001b[0;34m,\u001b[0m \u001b[0;34m**\u001b[0m\u001b[0mkwargs\u001b[0m\u001b[0;34m\u001b[0m\u001b[0;34m\u001b[0m\u001b[0m\n\u001b[1;32m    770\u001b[0m         )  # Calls into the C++ engine to run the backward pass\n",
      "\u001b[0;31mOutOfMemoryError\u001b[0m: CUDA out of memory. Tried to allocate 20.00 MiB. GPU 0 has a total capacity of 14.57 GiB of which 8.75 MiB is free. Process 2322271 has 14.14 GiB memory in use. Process 2518239 has 266.00 MiB memory in use. Including non-PyTorch memory, this process has 160.00 MiB memory in use. Of the allocated memory 16.60 MiB is allocated by PyTorch, and 9.40 MiB is reserved by PyTorch but unallocated. If reserved but unallocated memory is large try setting PYTORCH_CUDA_ALLOC_CONF=expandable_segments:True to avoid fragmentation.  See documentation for Memory Management  (https://pytorch.org/docs/stable/notes/cuda.html#environment-variables)"
     ]
    }
   ],
   "source": [
    "losses = dnn.fit_tensor(X_train_tensor, y_train_tensor, epochs=1000)"
   ]
  },
  {
   "cell_type": "code",
   "execution_count": null,
   "metadata": {},
   "outputs": [
    {
     "data": {
      "image/png": "[encoded data removed]",
      "text/plain": [
       "<Figure size 648x432 with 1 Axes>"
      ]
     },
     "metadata": {
      "needs_background": "light"
     },
     "output_type": "display_data"
    }
   ],
   "source": [
    "plt.plot(losses)\n",
    "plt.xlabel(\"Epoch\")\n",
    "plt.ylabel(\"Loss\")\n",
    "plt.grid()"
   ]
  },
  {
   "cell_type": "code",
   "execution_count": null,
   "metadata": {},
   "outputs": [],
   "source": [
    "y_pred_dnn = dnn.predict(torch.tensor(X_test.values, dtype=torch.float32))\n",
    "y_pred_dnn = np.argmax(y_pred_dnn.cpu().numpy(), axis=1)"
   ]
  },
  {
   "cell_type": "code",
   "execution_count": null,
   "metadata": {},
   "outputs": [
    {
     "data": {
      "text/plain": [
       "0.7368479714667856"
      ]
     },
     "execution_count": 125,
     "metadata": {},
     "output_type": "execute_result"
    }
   ],
   "source": [
    "accuracy_score(y_test, y_pred_dnn)"
   ]
  },
  {
   "cell_type": "code",
   "execution_count": null,
   "metadata": {},
   "outputs": [],
   "source": []
  }
 ],
 "metadata": {
  "kernelspec": {
   "display_name": "Python 3",
   "language": "python",
   "name": "python3"
  },
  "language_info": {
   "codemirror_mode": {
    "name": "ipython",
    "version": 3
   },
   "file_extension": ".py",
   "mimetype": "text/x-python",
   "name": "python",
   "nbconvert_exporter": "python",
   "pygments_lexer": "ipython3",
   "version": "3.9.12"
  }
 },
 "nbformat": 4,
 "nbformat_minor": 2
}
